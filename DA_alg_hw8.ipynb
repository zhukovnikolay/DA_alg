{
 "cells": [
  {
   "cell_type": "markdown",
   "metadata": {},
   "source": [
    "## Homework 8"
   ]
  },
  {
   "cell_type": "markdown",
   "metadata": {},
   "source": [
    "### 1. Можно ли отобрать наиболее значимые признаки с помощью PCA?"
   ]
  },
  {
   "cell_type": "markdown",
   "metadata": {},
   "source": [
    "В методе главных компонент признаки не рассматриваются в разрезе целевой переменной, определяется их линейная взаимосвязь друг с другом и наиболее коррелирующие могут без особенной потери в информации быть \"схлопнуты\", а \"значимость\" обычно предполагает именно зависимость целевой переменной от конкретного признака, так что логичный ответ - нет. \"Значимые\" для целевой переменной признаки могут как сильно коррелировать с другими, так и не коррелировать вовсе, так метод главных компонент для определения наиболее значимых признаков неэффективен."
   ]
  },
  {
   "cell_type": "markdown",
   "metadata": {},
   "source": [
    "### 2. (*) Написать свою реализацию метода главных компонент с помощью сингулярного разложения с использованием функции numpy.linalg.svd()"
   ]
  },
  {
   "cell_type": "code",
   "execution_count": 2,
   "metadata": {},
   "outputs": [],
   "source": [
    "import numpy as np\n",
    "from sklearn import datasets\n",
    "import matplotlib.pyplot as plt"
   ]
  },
  {
   "cell_type": "code",
   "execution_count": 3,
   "metadata": {},
   "outputs": [
    {
     "data": {
      "text/plain": [
       "(150, 4)"
      ]
     },
     "execution_count": 3,
     "metadata": {},
     "output_type": "execute_result"
    }
   ],
   "source": [
    "# Загрузим игрушечный датасет из sklearn\n",
    "iris = datasets.load_iris()\n",
    "X = iris.data\n",
    "X.shape"
   ]
  },
  {
   "cell_type": "code",
   "execution_count": 31,
   "metadata": {},
   "outputs": [],
   "source": [
    "def StandartScaler(X):\n",
    "    # центрирование - вычитание из каждого значения среднего по признаку\n",
    "    means = X_.mean(axis=0)\n",
    "    for i in range(rows):\n",
    "        for j in range(cols):\n",
    "            X_[i, j] -= means[j]\n",
    "\n",
    "    # деление каждого значения на стандартное отклонение\n",
    "    std = np.std(X_, axis=0)\n",
    "    for j in range(cols):\n",
    "        for i in range(rows):\n",
    "            X_[i, j] /= std[j]\n",
    "    \n",
    "    return X_"
   ]
  },
  {
   "cell_type": "code",
   "execution_count": 97,
   "metadata": {},
   "outputs": [],
   "source": [
    "def PCA_SVD(X, n_components, log=False):\n",
    "    # Для начала отмасштабируем выборку\n",
    "    X_ = X.astype(float)\n",
    "\n",
    "    rows, cols = X_.shape\n",
    "    \n",
    "    X_ = StandartScaler(X_)\n",
    "            \n",
    "    # разложим матрицу X_\n",
    "    U, D, VT = np.linalg.svd(X_)\n",
    "    \n",
    "    # Найдем собственные векторы и собственные значения\n",
    "    eig_values, eig_vectors = D, VT.T\n",
    "\n",
    "    # сформируем список кортежей (собственное значение, собственный вектор)\n",
    "    eig_pairs = [(np.abs(eig_values[i]), eig_vectors[:, i]) for i in range(len(eig_values))]\n",
    "\n",
    "    # и отсортируем список по убыванию собственных значений\n",
    "    eig_pairs.sort(key=lambda x: x[0], reverse=True)\n",
    "\n",
    "    if log == True:\n",
    "        eig_sum = sum(eig_values)\n",
    "        var_exp = [(i / eig_sum) * 100 for i in sorted(eig_values, reverse=True)]\n",
    "        cum_var_exp = np.cumsum(var_exp)\n",
    "        print(f'Доля дисперсии, описываемая каждой из компонент \\n{var_exp}')\n",
    "\n",
    "        # а теперя оценим кумулятивную (то есть накапливаемую) дисперсию при учитывании каждой из компонент\n",
    "        print(f'Кумулятивная доля дисперсии по компонентам \\n{cum_var_exp}')\n",
    "    \n",
    "    # Сформируем вектор весов из собственных векторов\n",
    "    W = VT.T[:,:n_components]\n",
    "    \n",
    "    return X_.dot(W)"
   ]
  },
  {
   "cell_type": "code",
   "execution_count": 102,
   "metadata": {},
   "outputs": [
    {
     "name": "stdout",
     "output_type": "stream",
     "text": [
      "Доля дисперсии, описываемая каждой из компонент \n",
      "[53.52971788236239, 29.956812784020087, 12.003682417209491, 4.509786916408035]\n",
      "Кумулятивная доля дисперсии по компонентам \n",
      "[ 53.52971788  83.48653067  95.49021308 100.        ]\n"
     ]
    },
    {
     "data": {
      "text/plain": [
       "array([[-2.26470281, -0.4800266 ],\n",
       "       [-2.08096115,  0.67413356],\n",
       "       [-2.36422905,  0.34190802],\n",
       "       [-2.29938422,  0.59739451],\n",
       "       [-2.38984217, -0.64683538],\n",
       "       [-2.07563095, -1.48917752],\n",
       "       [-2.44402884, -0.0476442 ],\n",
       "       [-2.23284716, -0.22314807],\n",
       "       [-2.33464048,  1.11532768],\n",
       "       [-2.18432817,  0.46901356],\n",
       "       [-2.1663101 , -1.04369065],\n",
       "       [-2.32613087, -0.13307834],\n",
       "       [-2.2184509 ,  0.72867617],\n",
       "       [-2.6331007 ,  0.96150673],\n",
       "       [-2.1987406 , -1.86005711],\n",
       "       [-2.26221453, -2.68628449],\n",
       "       [-2.2075877 , -1.48360936],\n",
       "       [-2.19034951, -0.48883832],\n",
       "       [-1.898572  , -1.40501879],\n",
       "       [-2.34336905, -1.12784938],\n",
       "       [-1.914323  , -0.40885571],\n",
       "       [-2.20701284, -0.92412143],\n",
       "       [-2.7743447 , -0.45834367],\n",
       "       [-1.81866953, -0.08555853],\n",
       "       [-2.22716331, -0.13725446],\n",
       "       [-1.95184633,  0.62561859],\n",
       "       [-2.05115137, -0.24216355],\n",
       "       [-2.16857717, -0.52714953],\n",
       "       [-2.13956345, -0.31321781],\n",
       "       [-2.26526149,  0.3377319 ],\n",
       "       [-2.14012214,  0.50454069],\n",
       "       [-1.83159477, -0.42369507],\n",
       "       [-2.61494794, -1.79357586],\n",
       "       [-2.44617739, -2.15072788],\n",
       "       [-2.10997488,  0.46020184],\n",
       "       [-2.2078089 ,  0.2061074 ],\n",
       "       [-2.04514621, -0.66155811],\n",
       "       [-2.52733191, -0.59229277],\n",
       "       [-2.42963258,  0.90418004],\n",
       "       [-2.16971071, -0.26887896],\n",
       "       [-2.28647514, -0.44171539],\n",
       "       [-1.85812246,  2.33741516],\n",
       "       [-2.5536384 ,  0.47910069],\n",
       "       [-1.96444768, -0.47232667],\n",
       "       [-2.13705901, -1.14222926],\n",
       "       [-2.0697443 ,  0.71105273],\n",
       "       [-2.38473317, -1.1204297 ],\n",
       "       [-2.39437631,  0.38624687],\n",
       "       [-2.22944655, -0.99795976],\n",
       "       [-2.20383344, -0.00921636],\n",
       "       [ 1.10178118, -0.86297242],\n",
       "       [ 0.73133743, -0.59461473],\n",
       "       [ 1.24097932, -0.61629765],\n",
       "       [ 0.40748306,  1.75440399],\n",
       "       [ 1.0754747 ,  0.20842105],\n",
       "       [ 0.38868734,  0.59328364],\n",
       "       [ 0.74652974, -0.77301931],\n",
       "       [-0.48732274,  1.85242909],\n",
       "       [ 0.92790164, -0.03222608],\n",
       "       [ 0.01142619,  1.03401828],\n",
       "       [-0.11019628,  2.65407282],\n",
       "       [ 0.44069345,  0.06329519],\n",
       "       [ 0.56210831,  1.76472438],\n",
       "       [ 0.71956189,  0.18622461],\n",
       "       [-0.0333547 ,  0.43900321],\n",
       "       [ 0.87540719, -0.50906396],\n",
       "       [ 0.35025167,  0.19631173],\n",
       "       [ 0.15881005,  0.79209574],\n",
       "       [ 1.22509363,  1.6222438 ],\n",
       "       [ 0.1649179 ,  1.30260923],\n",
       "       [ 0.73768265, -0.39657156],\n",
       "       [ 0.47628719,  0.41732028],\n",
       "       [ 1.2341781 ,  0.93332573],\n",
       "       [ 0.6328582 ,  0.41638772],\n",
       "       [ 0.70266118,  0.06341182],\n",
       "       [ 0.87427365, -0.25079339],\n",
       "       [ 1.25650912,  0.07725602],\n",
       "       [ 1.35840512, -0.33131168],\n",
       "       [ 0.66480037,  0.22592785],\n",
       "       [-0.04025861,  1.05871855],\n",
       "       [ 0.13079518,  1.56227183],\n",
       "       [ 0.02345269,  1.57247559],\n",
       "       [ 0.24153827,  0.77725638],\n",
       "       [ 1.06109461,  0.63384324],\n",
       "       [ 0.22397877,  0.28777351],\n",
       "       [ 0.42913912, -0.84558224],\n",
       "       [ 1.04872805, -0.5220518 ],\n",
       "       [ 1.04453138,  1.38298872],\n",
       "       [ 0.06958832,  0.21950333],\n",
       "       [ 0.28347724,  1.32932464],\n",
       "       [ 0.27907778,  1.12002852],\n",
       "       [ 0.62456979, -0.02492303],\n",
       "       [ 0.33653037,  0.98840402],\n",
       "       [-0.36218338,  2.01923787],\n",
       "       [ 0.28858624,  0.85573032],\n",
       "       [ 0.09136066,  0.18119213],\n",
       "       [ 0.22771687,  0.38492008],\n",
       "       [ 0.57638829,  0.1548736 ],\n",
       "       [-0.44766702,  1.54379203],\n",
       "       [ 0.25673059,  0.5988518 ],\n",
       "       [ 1.84456887, -0.87042131],\n",
       "       [ 1.15788161,  0.69886986],\n",
       "       [ 2.20526679, -0.56201048],\n",
       "       [ 1.44015066,  0.04698759],\n",
       "       [ 1.86781222, -0.29504482],\n",
       "       [ 2.75187334, -0.8004092 ],\n",
       "       [ 0.36701769,  1.56150289],\n",
       "       [ 2.30243944, -0.42006558],\n",
       "       [ 2.00668647,  0.71143865],\n",
       "       [ 2.25977735, -1.92101038],\n",
       "       [ 1.36417549, -0.69275645],\n",
       "       [ 1.60267867,  0.42170045],\n",
       "       [ 1.8839007 , -0.41924965],\n",
       "       [ 1.2601151 ,  1.16226042],\n",
       "       [ 1.4676452 ,  0.44227159],\n",
       "       [ 1.59007732, -0.67624481],\n",
       "       [ 1.47143146, -0.25562182],\n",
       "       [ 2.42632899, -2.55666125],\n",
       "       [ 3.31069558, -0.01778095],\n",
       "       [ 1.26376667,  1.70674538],\n",
       "       [ 2.0377163 , -0.91046741],\n",
       "       [ 0.97798073,  0.57176432],\n",
       "       [ 2.89765149, -0.41364106],\n",
       "       [ 1.33323218,  0.48181122],\n",
       "       [ 1.7007339 , -1.01392187],\n",
       "       [ 1.95432671, -1.0077776 ],\n",
       "       [ 1.17510363,  0.31639447],\n",
       "       [ 1.02095055, -0.06434603],\n",
       "       [ 1.78834992,  0.18736121],\n",
       "       [ 1.86364755, -0.56229073],\n",
       "       [ 2.43595373, -0.25928443],\n",
       "       [ 2.30492772, -2.62632347],\n",
       "       [ 1.86270322,  0.17854949],\n",
       "       [ 1.11414774,  0.29292262],\n",
       "       [ 1.2024733 ,  0.81131527],\n",
       "       [ 2.79877045, -0.85680333],\n",
       "       [ 1.57625591, -1.06858111],\n",
       "       [ 1.3462921 , -0.42243061],\n",
       "       [ 0.92482492, -0.0172231 ],\n",
       "       [ 1.85204505, -0.67612817],\n",
       "       [ 2.01481043, -0.61388564],\n",
       "       [ 1.90178409, -0.68957549],\n",
       "       [ 1.15788161,  0.69886986],\n",
       "       [ 2.04055823, -0.8675206 ],\n",
       "       [ 1.9981471 , -1.04916875],\n",
       "       [ 1.87050329, -0.38696608],\n",
       "       [ 1.56458048,  0.89668681],\n",
       "       [ 1.5211705 , -0.26906914],\n",
       "       [ 1.37278779, -1.01125442],\n",
       "       [ 0.96065603,  0.02433167]])"
      ]
     },
     "execution_count": 102,
     "metadata": {},
     "output_type": "execute_result"
    }
   ],
   "source": [
    "X_new = PCA_SVD(X, n_components=2, log=True)\n",
    "X_new"
   ]
  },
  {
   "cell_type": "code",
   "execution_count": 103,
   "metadata": {},
   "outputs": [
    {
     "data": {
      "image/png": "[encoded data removed]",
      "text/plain": [
       "<Figure size 432x288 with 1 Axes>"
      ]
     },
     "metadata": {
      "needs_background": "light"
     },
     "output_type": "display_data"
    }
   ],
   "source": [
    "plt.figure()\n",
    "y = iris.target\n",
    "for c, i in zip(\"rgb\", [0, 1, 2]):\n",
    "    plt.scatter(X_new[y==i, 0], X_new[y==i, 1], c=c)\n",
    "plt.xlabel('Главная компонента 1')\n",
    "plt.ylabel('Главная компонента 2')\n",
    "plt.title('PCA(SVD) датасета IRIS')\n",
    "plt.show()"
   ]
  },
  {
   "cell_type": "markdown",
   "metadata": {},
   "source": [
    "### 3. (*) Обучить любую модель классификации на датасете IRIS до применения PCA и после него. Сравнить качество классификации по отложенной выборке."
   ]
  },
  {
   "cell_type": "code",
   "execution_count": 104,
   "metadata": {},
   "outputs": [
    {
     "data": {
      "text/plain": [
       "1.0"
      ]
     },
     "execution_count": 104,
     "metadata": {},
     "output_type": "execute_result"
    }
   ],
   "source": [
    "# до применения PCA\n",
    "from sklearn.tree import DecisionTreeClassifier\n",
    "from sklearn.model_selection import train_test_split\n",
    "from sklearn.metrics import f1_score\n",
    "X_train, X_test, y_train, y_test = train_test_split(X, y, test_size=0.2, random_state=42)\n",
    "model = DecisionTreeClassifier(max_depth=3, random_state=42)\n",
    "\n",
    "model.fit(X_train, y_train)\n",
    "y_pred = model.predict(X_test)\n",
    "f1_score(y_test, y_pred, average='weighted')"
   ]
  },
  {
   "cell_type": "code",
   "execution_count": 105,
   "metadata": {},
   "outputs": [
    {
     "data": {
      "text/plain": [
       "0.89923273657289"
      ]
     },
     "execution_count": 105,
     "metadata": {},
     "output_type": "execute_result"
    }
   ],
   "source": [
    "# после применения PCA\n",
    "X_train_PCA, X_test_PCA, y_train_PCA, y_test_PCA = train_test_split(X_new, y, test_size=0.2, random_state=42)\n",
    "model2 = DecisionTreeClassifier(max_depth=3, random_state=42)\n",
    "\n",
    "model2.fit(X_train_PCA, y_train_PCA)\n",
    "y_pred_PCA = model2.predict(X_test_PCA)\n",
    "f1_score(y_test_PCA, y_pred_PCA, average='weighted')"
   ]
  },
  {
   "cell_type": "markdown",
   "metadata": {},
   "source": [
    "Качество немного упало."
   ]
  }
 ],
 "metadata": {
  "kernelspec": {
   "display_name": "Python 3",
   "language": "python",
   "name": "python3"
  }
 },
 "nbformat": 4,
 "nbformat_minor": 4
}
